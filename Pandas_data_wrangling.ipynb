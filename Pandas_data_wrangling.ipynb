{
 "cells": [
  {
   "cell_type": "markdown",
   "metadata": {},
   "source": [
    "# Pandas\n",
    "\n",
    "This module assumes you've had some previous exposure to Pandas (so, we're not going into detail about what a dataframe is, for instance), but it's all right if you don't remember all the details. \n",
    "\n",
    "First, we'll import Pandas in the traditional way:"
   ]
  },
  {
   "cell_type": "code",
   "execution_count": 2,
   "metadata": {},
   "outputs": [],
   "source": [
    "import pandas as pd"
   ]
  },
  {
   "cell_type": "markdown",
   "metadata": {},
   "source": [
    "Next, we'll read a CSV into a dataframe. \n",
    "\n",
    "In this case, we're using the \"lifetime\" dataset of Allegheny County dog licenses from the [Western PA Regional Data Center](https://data.wprdc.org/dataset/allegheny-county-dog-licenses). The only change I've made to this file, prior to importing it, was changing the filename to \"dog_licenses.csv.\" Otherwise, the data, column headers, etc. are all the same as the file at WPRDC."
   ]
  },
  {
   "cell_type": "code",
   "execution_count": 3,
   "metadata": {},
   "outputs": [
    {
     "data": {
      "text/html": [
       "<div>\n",
       "<style scoped>\n",
       "    .dataframe tbody tr th:only-of-type {\n",
       "        vertical-align: middle;\n",
       "    }\n",
       "\n",
       "    .dataframe tbody tr th {\n",
       "        vertical-align: top;\n",
       "    }\n",
       "\n",
       "    .dataframe thead th {\n",
       "        text-align: right;\n",
       "    }\n",
       "</style>\n",
       "<table border=\"1\" class=\"dataframe\">\n",
       "  <thead>\n",
       "    <tr style=\"text-align: right;\">\n",
       "      <th></th>\n",
       "      <th>LicenseType</th>\n",
       "      <th>Breed</th>\n",
       "      <th>Color</th>\n",
       "      <th>DogName</th>\n",
       "      <th>OwnerZip</th>\n",
       "      <th>ExpYear</th>\n",
       "      <th>ValidDate</th>\n",
       "    </tr>\n",
       "  </thead>\n",
       "  <tbody>\n",
       "    <tr>\n",
       "      <th>0</th>\n",
       "      <td>Dog Lifetime Neutered Male</td>\n",
       "      <td>POODLE MIN</td>\n",
       "      <td>WHITE/BLACK/GREY</td>\n",
       "      <td>BAILEY</td>\n",
       "      <td>15137</td>\n",
       "      <td>2099</td>\n",
       "      <td>2005-08-08</td>\n",
       "    </tr>\n",
       "    <tr>\n",
       "      <th>1</th>\n",
       "      <td>Dog Lifetime Neutered Male</td>\n",
       "      <td>AM PIT BULL TERRIER</td>\n",
       "      <td>BRINDLE</td>\n",
       "      <td>SPENCER</td>\n",
       "      <td>15045</td>\n",
       "      <td>2099</td>\n",
       "      <td>2006-03-07</td>\n",
       "    </tr>\n",
       "    <tr>\n",
       "      <th>2</th>\n",
       "      <td>Dog Lifetime Spayed Female</td>\n",
       "      <td>DALMATIAN</td>\n",
       "      <td>SPOTTED</td>\n",
       "      <td>CLEO</td>\n",
       "      <td>15110</td>\n",
       "      <td>2099</td>\n",
       "      <td>2005-08-08</td>\n",
       "    </tr>\n",
       "    <tr>\n",
       "      <th>3</th>\n",
       "      <td>Dog Senior Lifetime Neutered Male</td>\n",
       "      <td>COCKER SPANIEL</td>\n",
       "      <td>BUFF</td>\n",
       "      <td>HARLEY</td>\n",
       "      <td>15236</td>\n",
       "      <td>2099</td>\n",
       "      <td>2005-08-08</td>\n",
       "    </tr>\n",
       "    <tr>\n",
       "      <th>4</th>\n",
       "      <td>Dog Lifetime Spayed Female</td>\n",
       "      <td>CHIHUAHUA</td>\n",
       "      <td>WHITE/BROWN</td>\n",
       "      <td>ANGEL</td>\n",
       "      <td>15216</td>\n",
       "      <td>2099</td>\n",
       "      <td>2005-08-08</td>\n",
       "    </tr>\n",
       "  </tbody>\n",
       "</table>\n",
       "</div>"
      ],
      "text/plain": [
       "                         LicenseType                Breed             Color  \\\n",
       "0         Dog Lifetime Neutered Male           POODLE MIN  WHITE/BLACK/GREY   \n",
       "1         Dog Lifetime Neutered Male  AM PIT BULL TERRIER           BRINDLE   \n",
       "2         Dog Lifetime Spayed Female            DALMATIAN           SPOTTED   \n",
       "3  Dog Senior Lifetime Neutered Male       COCKER SPANIEL              BUFF   \n",
       "4         Dog Lifetime Spayed Female            CHIHUAHUA       WHITE/BROWN   \n",
       "\n",
       "   DogName  OwnerZip  ExpYear  ValidDate  \n",
       "0   BAILEY     15137     2099 2005-08-08  \n",
       "1  SPENCER     15045     2099 2006-03-07  \n",
       "2     CLEO     15110     2099 2005-08-08  \n",
       "3   HARLEY     15236     2099 2005-08-08  \n",
       "4    ANGEL     15216     2099 2005-08-08  "
      ]
     },
     "execution_count": 3,
     "metadata": {},
     "output_type": "execute_result"
    }
   ],
   "source": [
    "# you have to love how easy it is to pull a CSV into a dataframe\n",
    "# (you make your life MUCH easier if you deal with datetimes on input)\n",
    "licenses = pd.read_csv(\"dog_licenses.csv\", parse_dates=[\"ValidDate\"])\n",
    "\n",
    "# show the beginning of the file\n",
    "licenses.head()"
   ]
  },
  {
   "cell_type": "markdown",
   "metadata": {},
   "source": [
    "Pandas will tell us the facts we need to know about our data."
   ]
  },
  {
   "cell_type": "code",
   "execution_count": null,
   "metadata": {},
   "outputs": [],
   "source": [
    "print(\"Shape, (rows, columns):\", licenses.shape, \"\\n\")\n",
    "print(\"Size:\", licenses.size, \"\\n\")\n",
    "print(\"Data type of items:\", licenses.dtypes, \"\\n\")"
   ]
  },
  {
   "cell_type": "code",
   "execution_count": null,
   "metadata": {},
   "outputs": [],
   "source": [
    "# and we can get descriptive statistics, of a sort,\n",
    "# for the two columns it considers \"numeric\"\n",
    "licenses.describe()"
   ]
  },
  {
   "cell_type": "markdown",
   "metadata": {},
   "source": [
    "It's good to know about `.describe()`, but honestly, neither of those columns should be described statistically. One's a zip code (a categorical variable, probably best handled as a string), and the other's a year, which is probably OK as an int, provided we don't do silly things like summing or averaging it.\n",
    "\n",
    "### Changing the data type of a column\n",
    "\n",
    "Actually, it's really straightforward! (Unless you're changing not-a-datetime to a datetime, which is part of why I try to parse them as I pull them in.)\n",
    "\n",
    "Tell Pandas which columns you want to change, and use `.astype(\"type\")` to set each one."
   ]
  },
  {
   "cell_type": "code",
   "execution_count": null,
   "metadata": {},
   "outputs": [],
   "source": [
    "# change data type of zip code field to string\n",
    "licenses[\"OwnerZip\"] = licenses[\"OwnerZip\"].astype(\"string\")\n",
    "\n",
    "# and, actually, we should really make our other strings into string types, too\n",
    "cols_list = [\"LicenseType\", \"Breed\", \"Color\", \"DogName\"]\n",
    "licenses[cols_list] = licenses[cols_list].astype(\"string\")"
   ]
  },
  {
   "cell_type": "markdown",
   "metadata": {},
   "source": [
    "## Using `.groupby()`\n",
    "\n",
    "`.groupby()` gives us the ability to look at our data in subsets and run functions on combinations of our data. \n",
    "\n",
    "The syntax is\n",
    "```Python\n",
    "smaller_df = primary_df.groupby(\"column_to_be_grouped\")[\"column_to_operate_on\"].function()\n",
    "```\n",
    "\n",
    "### grouping by a single column\n",
    "\n",
    "Let's count how many dogs are in each zip code. In this case, the \"column_to_operate_on\" is literally any column, since we're just counting."
   ]
  },
  {
   "cell_type": "code",
   "execution_count": null,
   "metadata": {},
   "outputs": [],
   "source": [
    "dogs_by_zip = licenses.groupby(\"OwnerZip\")[\"DogName\"].count()\n",
    "dogs_by_zip.head()"
   ]
  },
  {
   "cell_type": "code",
   "execution_count": null,
   "metadata": {},
   "outputs": [],
   "source": [
    "# hmm\n",
    "type(dogs_by_zip)"
   ]
  },
  {
   "cell_type": "markdown",
   "metadata": {},
   "source": [
    "Often you'd really rather have a dataframe to work with than a series. If so, you can use `as_index=False` to make your groups back into a column (or, as you'll see, columns) in their own right."
   ]
  },
  {
   "cell_type": "code",
   "execution_count": null,
   "metadata": {
    "scrolled": true
   },
   "outputs": [],
   "source": [
    "dogs_by_zip = licenses.groupby(\"OwnerZip\", as_index=False)[\"DogName\"].count()\n",
    "dogs_by_zip.head()"
   ]
  },
  {
   "cell_type": "markdown",
   "metadata": {},
   "source": [
    "#### Renaming our columns\n",
    "\n",
    "Unsurprisingly, we use `.rename()`, but perhaps-surprisingly, it takes a dictionary as its input:\n",
    "```Python\n",
    "df = df.rename(columns = {\"old_column_name1\" : \"new_column_name1\", \"ocn2\" : \"ncn2\", ...})\n",
    "```\n",
    "\n",
    "The column where we keep the counts probably shouldn't be called \"DogName\" anymore."
   ]
  },
  {
   "cell_type": "code",
   "execution_count": null,
   "metadata": {},
   "outputs": [],
   "source": [
    "dogs_by_zip = dogs_by_zip.rename(columns = {\"DogName\" : \"Count\"})\n",
    "dogs_by_zip.head()"
   ]
  },
  {
   "cell_type": "code",
   "execution_count": null,
   "metadata": {},
   "outputs": [],
   "source": [
    "# OK, how many are there in Downtown (15219)?\n",
    "dogs_by_zip[dogs_by_zip.OwnerZip == \"15219\"]"
   ]
  },
  {
   "cell_type": "markdown",
   "metadata": {},
   "source": [
    "### grouping by multiple columns\n",
    "\n",
    "You need to pass in your list of columns as, well, a list. \n",
    "\n",
    "In the example below, we count how many dogs there are by zip code and by breed. So, then, if we want to know how many poodles are in a particular zip code, we can do that."
   ]
  },
  {
   "cell_type": "code",
   "execution_count": null,
   "metadata": {},
   "outputs": [],
   "source": [
    "zab_df = licenses.groupby([\"OwnerZip\", \"Breed\"], as_index=False)[\"DogName\"].count()\n",
    "zab_df = zab_df.rename(columns = {\"DogName\" : \"Count\"})\n",
    "zab_df.head()"
   ]
  },
  {
   "cell_type": "markdown",
   "metadata": {},
   "source": [
    "#### A good trick: `.str.contains()`\n",
    "\n",
    "We can look for substrings within our columns if we want to. Say you want to look for all pitt bulls (and pitbulls), including mixes with other breeds. Not a problem. "
   ]
  },
  {
   "cell_type": "code",
   "execution_count": null,
   "metadata": {},
   "outputs": [],
   "source": [
    "# how many pitbulls live near CCAC North?\n",
    "pitties = zab_df[zab_df['Breed'].str.contains('PIT')]\n",
    "pitties_by_north_campus = pitties[pitties.OwnerZip == \"15237\"]\n",
    "\n",
    "print(\"Total pitties by North Campus:\", sum(pitties_by_north_campus.Count), \"\\n\")\n",
    "print(pitties_by_north_campus) # there's a reason I don't always explicitly print dfs"
   ]
  },
  {
   "cell_type": "code",
   "execution_count": null,
   "metadata": {},
   "outputs": [],
   "source": [
    "# I did say \"poodles,\" though\n",
    "oodles = zab_df[zab_df[\"Breed\"].str.contains(\"OODLE\")]\n",
    "CCAC_North_area_poodle_mixes = oodles[oodles.OwnerZip == \"15237\"]\n",
    "CCAC_North_area_poodle_mixes"
   ]
  },
  {
   "cell_type": "code",
   "execution_count": null,
   "metadata": {},
   "outputs": [],
   "source": [
    "sum(CCAC_North_area_poodle_mixes.Count)"
   ]
  },
  {
   "cell_type": "markdown",
   "metadata": {},
   "source": [
    "## Reorganizing columns\n",
    "\n",
    "Surprisingly easy, actually. Say you have a dataframe with three columns, \"b\", \"c\", and \"a\", and they're in that order, which is not the order you want.\n",
    "```Python\n",
    "df = df[[\"a\", \"b\", \"c\"]]\n",
    "```\n"
   ]
  },
  {
   "cell_type": "code",
   "execution_count": null,
   "metadata": {},
   "outputs": [],
   "source": [
    "licenses.head()"
   ]
  },
  {
   "cell_type": "code",
   "execution_count": null,
   "metadata": {},
   "outputs": [],
   "source": [
    "licenses2 = licenses[[\"OwnerZip\", \"DogName\", \"Breed\", \"Color\", \"LicenseType\", \"ExpYear\", \"ValidDate\"]]\n",
    "licenses2.head()"
   ]
  },
  {
   "cell_type": "markdown",
   "metadata": {},
   "source": [
    "### Removing a column\n",
    "\n",
    "There are two ways. You could do what we did above, and just leave a column out (for a dataframe with columns \"a\", \"b\", and \"c\":\n",
    "\n",
    "```Python\n",
    "df = df[[\"a\", \"b\"]]\n",
    "```\n",
    "\n",
    "But most dataframes have more than three columns, probably, so instead we use `.drop()`:\n",
    "\n",
    "```Python\n",
    "df = df.drop(\"c\", axis = 1) #axis tells it you're doing a column\n",
    "\n",
    "# OR\n",
    "\n",
    "df = df.drop(columns=[\"c\"])\n",
    "```"
   ]
  },
  {
   "cell_type": "code",
   "execution_count": null,
   "metadata": {},
   "outputs": [],
   "source": [
    "licenses2 = licenses2.drop(columns=[\"ExpYear\"])\n",
    "licenses2 = licenses2.drop(\"ValidDate\", axis = 1)\n",
    "licenses2.head()"
   ]
  },
  {
   "cell_type": "markdown",
   "metadata": {},
   "source": [
    "### Adding columns\n",
    "\n",
    "You may need to create a single new column, often based on a calculation you've done to another column. \n",
    "\n",
    "Weirdly enough, you can just add a column by indexing it with the name you want it to have:\n",
    "    \n",
    "```Python\n",
    "df[\"new_column\"] = whatever_pandas_series_or_list_you_want\n",
    "```\n",
    "\n",
    "We do have a method for it, too, though:\n",
    "\n",
    "```Python\n",
    "# one of the few Pandas operations to happen in place by default\n",
    "df.insert(position, column_name, list_or_list_of_values, True/False)\n",
    "```"
   ]
  },
  {
   "cell_type": "code",
   "execution_count": null,
   "metadata": {},
   "outputs": [],
   "source": [
    "# Make true/false for whether a dog has been spayed or neutered\n",
    "neutered = licenses.LicenseType.str.contains(\"Neutered\")\n",
    "spayed = licenses.LicenseType.str.contains(\"Spayed\")\n",
    "# weirdly, we have to use bitwise operators to do element-by-element\n",
    "# comparisons of pandas series\n",
    "fixed = neutered | spayed\n",
    "\n",
    "# add the column\n",
    "licenses.insert(1, \"Fixed\", fixed, True)\n",
    "licenses.head()"
   ]
  },
  {
   "cell_type": "markdown",
   "metadata": {},
   "source": [
    "It's also worth pointing out that you can \"broadcast\" a scalar value down a column, too."
   ]
  },
  {
   "cell_type": "code",
   "execution_count": null,
   "metadata": {},
   "outputs": [],
   "source": [
    "licenses[\"IsGood\"] = \"Yes\"\n",
    "licenses.head()"
   ]
  },
  {
   "cell_type": "code",
   "execution_count": null,
   "metadata": {},
   "outputs": [],
   "source": []
  },
  {
   "cell_type": "code",
   "execution_count": null,
   "metadata": {},
   "outputs": [],
   "source": []
  },
  {
   "cell_type": "markdown",
   "metadata": {},
   "source": [
    "### Etc."
   ]
  },
  {
   "cell_type": "code",
   "execution_count": null,
   "metadata": {},
   "outputs": [],
   "source": [
    "dogs_by_zip = licenses.groupby(\"OwnerZip\")[\"DogName\"].count()\n",
    "dogs_by_zip = dogs_by_zip.rename(columns = {\"DogName\" : \"Count\"})\n",
    "dogs_by_zip.describe()\n",
    "# average zip code in Allegheny County has 244 dog licenses\n",
    "# median is 54\n",
    "# max is 1937"
   ]
  },
  {
   "cell_type": "code",
   "execution_count": null,
   "metadata": {},
   "outputs": [],
   "source": [
    "most_dogs_by_zip = dogs_by_zip[dogs_by_zip > 200]\n",
    "most_dogs_by_zip.head()"
   ]
  },
  {
   "cell_type": "code",
   "execution_count": null,
   "metadata": {},
   "outputs": [],
   "source": []
  }
 ],
 "metadata": {
  "kernelspec": {
   "display_name": "Python 3 (ipykernel)",
   "language": "python",
   "name": "python3"
  },
  "language_info": {
   "codemirror_mode": {
    "name": "ipython",
    "version": 3
   },
   "file_extension": ".py",
   "mimetype": "text/x-python",
   "name": "python",
   "nbconvert_exporter": "python",
   "pygments_lexer": "ipython3",
   "version": "3.10.4"
  }
 },
 "nbformat": 4,
 "nbformat_minor": 4
}
